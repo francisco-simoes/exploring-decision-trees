{
 "cells": [
  {
   "cell_type": "code",
   "execution_count": 2,
   "metadata": {},
   "outputs": [
    {
     "data": {
      "text/plain": [
       "[['.', '.'], ['.', '.'], ['.', '.']]"
      ]
     },
     "execution_count": 2,
     "metadata": {},
     "output_type": "execute_result"
    }
   ],
   "source": [
    "width = 2\n",
    "height = 3\n",
    "grid = []\n",
    "row = []\n",
    "for num in range(0, width):\n",
    "    row.append(\".\")\n",
    "for num in range(0, height):\n",
    "    grid.append(row)\n",
    "    \n",
    "grid"
   ]
  },
  {
   "cell_type": "code",
   "execution_count": 3,
   "metadata": {},
   "outputs": [
    {
     "data": {
      "text/plain": [
       "[['.', '.'], ['.', '.'], ['.', '.']]"
      ]
     },
     "execution_count": 3,
     "metadata": {},
     "output_type": "execute_result"
    }
   ],
   "source": [
    "width = 2\n",
    "height = 3\n",
    "grid = []\n",
    "for num in range(0, height):\n",
    "    row = []\n",
    "    for num in range(0, width):\n",
    "        row.append(\".\")\n",
    "    grid.append(row)\n",
    "    \n",
    "grid"
   ]
  },
  {
   "cell_type": "code",
   "execution_count": 2,
   "metadata": {},
   "outputs": [],
   "source": [
    "from anytree import Node, RenderTree"
   ]
  },
  {
   "cell_type": "code",
   "execution_count": 3,
   "metadata": {},
   "outputs": [],
   "source": [
    "tree = Node('a')"
   ]
  },
  {
   "cell_type": "code",
   "execution_count": 33,
   "metadata": {},
   "outputs": [
    {
     "name": "stdout",
     "output_type": "stream",
     "text": [
      "Node('/a')\n",
      "├── Node('/a/b1')\n",
      "└── Node('/a/b2')\n",
      "Node('/a')\n",
      "├── Node('/a/b1')\n",
      "├── Node('/a/b2')\n",
      "└── Node('/a/b3')\n",
      "Node('/a')\n",
      "├── Node('/a/b1')\n",
      "├── Node('/a/b2')\n",
      "└── Node('/a/b3')\n",
      "    └── Node('/a/b3/c')\n",
      "(Node('/a/b1'), Node('/a/b2'), Node('/a/b3/c'))\n"
     ]
    },
    {
     "data": {
      "text/plain": [
       "'a'"
      ]
     },
     "execution_count": 33,
     "metadata": {},
     "output_type": "execute_result"
    }
   ],
   "source": [
    "tree.children = (Node('b1'), Node('b2'))\n",
    "print(RenderTree(tree))\n",
    "other = Node('b3')\n",
    "tree.children += (other,)\n",
    "print(RenderTree(tree))\n",
    "\n",
    "other.children += (Node('c'),)\n",
    "print(RenderTree(tree))\n",
    "\n",
    "print(tree.leaves)\n",
    "tree.name"
   ]
  },
  {
   "cell_type": "code",
   "execution_count": 19,
   "metadata": {},
   "outputs": [
    {
     "data": {
      "text/plain": [
       "(1, 2, 3, 4)"
      ]
     },
     "execution_count": 19,
     "metadata": {},
     "output_type": "execute_result"
    }
   ],
   "source": [
    "tuuple = (1,2)\n",
    "tuuple += (3,4,)\n",
    "tuuple"
   ]
  },
  {
   "cell_type": "code",
   "execution_count": 18,
   "metadata": {},
   "outputs": [
    {
     "data": {
      "text/plain": [
       "RenderTree(Node('/a'), style=ContStyle(), childiter=<class 'list'>)"
      ]
     },
     "execution_count": 18,
     "metadata": {},
     "output_type": "execute_result"
    }
   ],
   "source": [
    "tree.descendants("
   ]
  },
  {
   "cell_type": "code",
   "execution_count": 25,
   "metadata": {},
   "outputs": [
    {
     "data": {
      "text/plain": [
       "((3, 2, 1), (3, 2))"
      ]
     },
     "execution_count": 25,
     "metadata": {},
     "output_type": "execute_result"
    }
   ],
   "source": [
    "x = (3,2)\n",
    "y = x\n",
    "x += (1,)\n",
    "x, y\n"
   ]
  },
  {
   "cell_type": "code",
   "execution_count": 34,
   "metadata": {},
   "outputs": [],
   "source": [
    "tree = Node('a')"
   ]
  },
  {
   "cell_type": "code",
   "execution_count": 35,
   "metadata": {},
   "outputs": [
    {
     "data": {
      "text/plain": [
       "(Node('/a'),)"
      ]
     },
     "execution_count": 35,
     "metadata": {},
     "output_type": "execute_result"
    }
   ],
   "source": [
    "tree.leaves"
   ]
  },
  {
   "cell_type": "code",
   "execution_count": 36,
   "metadata": {},
   "outputs": [
    {
     "name": "stdout",
     "output_type": "stream",
     "text": [
      "a\n"
     ]
    }
   ],
   "source": [
    "for leaf in tree.leaves:\n",
    "    print(leaf.name)"
   ]
  },
  {
   "cell_type": "raw",
   "metadata": {},
   "source": [
    "tree.children += (Node('b'),Node('c'),)"
   ]
  },
  {
   "cell_type": "code",
   "execution_count": 46,
   "metadata": {},
   "outputs": [],
   "source": [
    "for leaf in tree.leaves:\n",
    "    leaf.children += (Node('c'),)"
   ]
  },
  {
   "cell_type": "code",
   "execution_count": 47,
   "metadata": {},
   "outputs": [
    {
     "name": "stdout",
     "output_type": "stream",
     "text": [
      "Node('/a')\n",
      "└── Node('/a/c')\n",
      "    └── Node('/a/c/c')\n",
      "        └── Node('/a/c/c/c')\n"
     ]
    }
   ],
   "source": [
    "print(RenderTree(tree))"
   ]
  },
  {
   "cell_type": "code",
   "execution_count": 48,
   "metadata": {},
   "outputs": [],
   "source": [
    "new = Node('a', id='root')"
   ]
  },
  {
   "cell_type": "code",
   "execution_count": 59,
   "metadata": {},
   "outputs": [
    {
     "name": "stdout",
     "output_type": "stream",
     "text": [
      "5\n",
      "root\n",
      "└── 1\n",
      "    └── 1\n",
      "        └── 1\n",
      "            └── 1\n",
      "                └── 1\n",
      "                    └── 1\n",
      "                        └── 5\n"
     ]
    }
   ],
   "source": [
    "i = 0\n",
    "for leaf in new.leaves:\n",
    "    i += 5\n",
    "    print(i)\n",
    "    leaf.children += (Node('c',id=i),)\n",
    "print(RenderTree(new).by_attr('id'))"
   ]
  },
  {
   "cell_type": "code",
   "execution_count": 66,
   "metadata": {},
   "outputs": [
    {
     "data": {
      "text/plain": [
       "0"
      ]
     },
     "execution_count": 66,
     "metadata": {},
     "output_type": "execute_result"
    }
   ],
   "source": [
    "t2 = Node('a')\n",
    "t2.height"
   ]
  },
  {
   "cell_type": "code",
   "execution_count": 82,
   "metadata": {},
   "outputs": [
    {
     "name": "stdout",
     "output_type": "stream",
     "text": [
      "Node('/a')\n",
      "├── Node('/a/n1')\n",
      "└── Node('/a/n2')\n",
      "    └── Node('/a/n2/n3')\n",
      "Node('/a')\n",
      "├── Node('/a/n1')\n",
      "└── Node('/a/n2')\n"
     ]
    }
   ],
   "source": [
    "t2 = Node('a')\n",
    "n1 = Node('n1', parent=t2)\n",
    "n2 = Node('n2', parent=t2)\n",
    "n3 = Node('n3', parent=n2)\n",
    "print(RenderTree(t2))\n",
    "\n",
    "n3.parent = None\n",
    "print(RenderTree(t2))"
   ]
  },
  {
   "cell_type": "code",
   "execution_count": 70,
   "metadata": {},
   "outputs": [
    {
     "data": {
      "text/plain": [
       "[1, 2, (1, 2)]"
      ]
     },
     "execution_count": 70,
     "metadata": {},
     "output_type": "execute_result"
    }
   ],
   "source": [
    "l = [1,2]\n",
    "l.append((1,2))\n",
    "l"
   ]
  }
 ],
 "metadata": {
  "kernelspec": {
   "display_name": "Python 3",
   "language": "python",
   "name": "python3"
  },
  "language_info": {
   "codemirror_mode": {
    "name": "ipython",
    "version": 3
   },
   "file_extension": ".py",
   "mimetype": "text/x-python",
   "name": "python",
   "nbconvert_exporter": "python",
   "pygments_lexer": "ipython3",
   "version": "3.7.4"
  }
 },
 "nbformat": 4,
 "nbformat_minor": 4
}
